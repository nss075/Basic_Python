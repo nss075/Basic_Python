{
  "nbformat": 4,
  "nbformat_minor": 0,
  "metadata": {
    "colab": {
      "provenance": [],
      "authorship_tag": "ABX9TyN1/xle+eFaPnYtgUS67qsf",
      "include_colab_link": true
    },
    "kernelspec": {
      "name": "python3",
      "display_name": "Python 3"
    },
    "language_info": {
      "name": "python"
    }
  },
  "cells": [
    {
      "cell_type": "markdown",
      "metadata": {
        "id": "view-in-github",
        "colab_type": "text"
      },
      "source": [
        "<a href=\"https://colab.research.google.com/github/nss075/Basic_Python/blob/main/Untitled2.ipynb\" target=\"_parent\"><img src=\"https://colab.research.google.com/assets/colab-badge.svg\" alt=\"Open In Colab\"/></a>"
      ]
    },
    {
      "cell_type": "code",
      "execution_count": null,
      "metadata": {
        "colab": {
          "base_uri": "https://localhost:8080/"
        },
        "id": "fvdfDeDKwBvE",
        "outputId": "65c91c71-45d0-4927-b015-0792c17f8bab"
      },
      "outputs": [
        {
          "output_type": "stream",
          "name": "stdout",
          "text": [
            "[11, 12, 13, 14, 50, 60]\n"
          ]
        }
      ],
      "source": [
        "L=[11,12,13,14]\n",
        "L.append(50)\n",
        "L.append(60)\n",
        "print(L)"
      ]
    },
    {
      "cell_type": "code",
      "source": [
        "L=[11,12,13,14]\n",
        "del L[0]\n",
        "del L[1]\n",
        "print(L)"
      ],
      "metadata": {
        "colab": {
          "base_uri": "https://localhost:8080/"
        },
        "id": "s4WV3CYqxWGK",
        "outputId": "92e008af-f481-47e8-da2a-79361fc2d46d"
      },
      "execution_count": null,
      "outputs": [
        {
          "output_type": "stream",
          "name": "stdout",
          "text": [
            "[12, 14]\n"
          ]
        }
      ]
    },
    {
      "cell_type": "code",
      "source": [
        "L=[11,12,13,14]\n",
        "L.sort()\n",
        "print(L)"
      ],
      "metadata": {
        "colab": {
          "base_uri": "https://localhost:8080/"
        },
        "id": "0tVKAzjxx-oF",
        "outputId": "79c8cf18-3c12-4239-a112-c9e964f8200c"
      },
      "execution_count": null,
      "outputs": [
        {
          "output_type": "stream",
          "name": "stdout",
          "text": [
            "[11, 12, 13, 14]\n"
          ]
        }
      ]
    },
    {
      "cell_type": "code",
      "source": [
        "L=[11,12,13,14]\n",
        "L.sort(reverse=True)\n",
        "print(L)"
      ],
      "metadata": {
        "colab": {
          "base_uri": "https://localhost:8080/"
        },
        "id": "sw35Bo-hyuah",
        "outputId": "49bf33bd-6944-4a14-e0dc-9ab3496ba8aa"
      },
      "execution_count": null,
      "outputs": [
        {
          "output_type": "stream",
          "name": "stdout",
          "text": [
            "[14, 13, 12, 11]\n"
          ]
        }
      ]
    },
    {
      "cell_type": "code",
      "source": [
        "L=[11,12,13,14]\n",
        "print(\"Original list\", 13 in L)\n",
        "if(13 in L)==True:\n",
        "  print('Found')\n",
        "else:\n",
        "  print('Not Found')"
      ],
      "metadata": {
        "colab": {
          "base_uri": "https://localhost:8080/"
        },
        "id": "b4dUCoVoy3y0",
        "outputId": "469ce118-8697-4713-8e50-7ac3378e66f0"
      },
      "execution_count": null,
      "outputs": [
        {
          "output_type": "stream",
          "name": "stdout",
          "text": [
            "Original list True\n",
            "Found\n"
          ]
        }
      ]
    },
    {
      "cell_type": "code",
      "source": [
        "L=[11,12,13,14]\n",
        "len(L)"
      ],
      "metadata": {
        "colab": {
          "base_uri": "https://localhost:8080/"
        },
        "id": "mGGpDJtUzsLI",
        "outputId": "2d9a37d1-a97c-426e-812d-e236d5969b59"
      },
      "execution_count": null,
      "outputs": [
        {
          "output_type": "execute_result",
          "data": {
            "text/plain": [
              "4"
            ]
          },
          "metadata": {},
          "execution_count": 17
        }
      ]
    },
    {
      "cell_type": "code",
      "source": [
        "L=[11,12,13,14]\n",
        "sum(L)"
      ],
      "metadata": {
        "colab": {
          "base_uri": "https://localhost:8080/"
        },
        "id": "eB5c4J-GzyIK",
        "outputId": "a482afd7-2fc0-4fcd-9d8c-0f77d5a35e79"
      },
      "execution_count": null,
      "outputs": [
        {
          "output_type": "execute_result",
          "data": {
            "text/plain": [
              "50"
            ]
          },
          "metadata": {},
          "execution_count": 18
        }
      ]
    },
    {
      "cell_type": "code",
      "source": [
        "L=[11,12,13,14]\n",
        "l=[]\n",
        "s=0\n",
        "for i in L:\n",
        "  if(i%2!=0):\n",
        "    l.append(i)\n",
        "\n",
        "s=sum(l)\n",
        "print(s)"
      ],
      "metadata": {
        "colab": {
          "base_uri": "https://localhost:8080/"
        },
        "id": "5BecwJgf0ZMS",
        "outputId": "332b8470-13c4-4118-cc64-c01e66fe5885"
      },
      "execution_count": null,
      "outputs": [
        {
          "output_type": "stream",
          "name": "stdout",
          "text": [
            "24\n"
          ]
        }
      ]
    },
    {
      "cell_type": "code",
      "source": [
        "L=[11,12,13,14]\n",
        "l=[]\n",
        "s=0\n",
        "for i in L:\n",
        "  if(i%2==0):\n",
        "    l.append(i)\n",
        "\n",
        "s=sum(l)\n",
        "print(s)"
      ],
      "metadata": {
        "colab": {
          "base_uri": "https://localhost:8080/"
        },
        "id": "YOoiZzX92QmF",
        "outputId": "12ab8cc7-33cf-464a-a6de-acdccaad6512"
      },
      "execution_count": null,
      "outputs": [
        {
          "output_type": "stream",
          "name": "stdout",
          "text": [
            "26\n"
          ]
        }
      ]
    },
    {
      "cell_type": "code",
      "source": [
        "def is_prime(num):\n",
        "    if num < 2:\n",
        "        return False\n",
        "    for i in range(2, int(num ** 0.5) + 1):\n",
        "        if num % i == 0:\n",
        "            return False\n",
        "    return True\n",
        "\n",
        "L = [11, 12, 13, 14]\n",
        "\n",
        "# Filter prime numbers and calculate the sum\n",
        "prime_sum = sum(num for num in L if is_prime(num))\n",
        "\n",
        "# Print the sum of prime numbers\n",
        "print(\"Sum of prime numbers in L:\",prime_sum)"
      ],
      "metadata": {
        "colab": {
          "base_uri": "https://localhost:8080/"
        },
        "id": "o6chaVDH6xFM",
        "outputId": "e107142b-3a4d-4480-9f66-cf26f3242c1a"
      },
      "execution_count": null,
      "outputs": [
        {
          "output_type": "stream",
          "name": "stdout",
          "text": [
            "Sum of prime numbers in L: 24\n"
          ]
        }
      ]
    },
    {
      "cell_type": "code",
      "source": [
        "L=[11,12,13,14]\n",
        "L.clear()"
      ],
      "metadata": {
        "id": "0h8GeYu38xFG"
      },
      "execution_count": null,
      "outputs": []
    },
    {
      "cell_type": "code",
      "source": [
        "L=[11,12,13,14]\n",
        "del(L)"
      ],
      "metadata": {
        "id": "BnUdIxaR989k"
      },
      "execution_count": null,
      "outputs": []
    },
    {
      "cell_type": "code",
      "source": [
        "D={1:5.6,2:7.8,3:6.6,4:8.7,5:7.7}\n",
        "D[8]=8.8\n",
        "print(D)"
      ],
      "metadata": {
        "colab": {
          "base_uri": "https://localhost:8080/"
        },
        "id": "juAQMek_-EBS",
        "outputId": "cb2ac1a9-e591-4345-ca3a-66203d355506"
      },
      "execution_count": null,
      "outputs": [
        {
          "output_type": "stream",
          "name": "stdout",
          "text": [
            "{1: 5.6, 2: 7.8, 3: 6.6, 4: 8.7, 5: 7.7, 8: 8.8}\n"
          ]
        }
      ]
    },
    {
      "cell_type": "code",
      "source": [
        "D={1:5.6,2:7.8,3:6.6,4:8.7,5:7.7}\n",
        "del D[2]\n",
        "print(D)"
      ],
      "metadata": {
        "colab": {
          "base_uri": "https://localhost:8080/"
        },
        "id": "5D2VjmPc_HvO",
        "outputId": "458a69db-5260-465c-fd23-45d4162f27a1"
      },
      "execution_count": null,
      "outputs": [
        {
          "output_type": "stream",
          "name": "stdout",
          "text": [
            "{1: 5.6, 3: 6.6, 4: 8.7, 5: 7.7}\n"
          ]
        }
      ]
    },
    {
      "cell_type": "code",
      "source": [
        "D={1:5.6,2:7.8,3:6.6,4:8.7,5:7.7}\n",
        "print(\"Is in D\",6 in D)"
      ],
      "metadata": {
        "colab": {
          "base_uri": "https://localhost:8080/"
        },
        "id": "7rHp9hKJ_n2U",
        "outputId": "b1c2dce7-79a1-4954-e2e9-98086a137ebf"
      },
      "execution_count": null,
      "outputs": [
        {
          "output_type": "stream",
          "name": "stdout",
          "text": [
            "Is in D False\n"
          ]
        }
      ]
    },
    {
      "cell_type": "code",
      "source": [
        "len(D)"
      ],
      "metadata": {
        "colab": {
          "base_uri": "https://localhost:8080/"
        },
        "id": "2KIEi6QI_2-Z",
        "outputId": "b0d6fdfc-b9eb-4ebc-8869-3b6685229e52"
      },
      "execution_count": null,
      "outputs": [
        {
          "output_type": "execute_result",
          "data": {
            "text/plain": [
              "5"
            ]
          },
          "metadata": {},
          "execution_count": 46
        }
      ]
    },
    {
      "cell_type": "code",
      "source": [
        "sum(D.values())"
      ],
      "metadata": {
        "colab": {
          "base_uri": "https://localhost:8080/"
        },
        "id": "LlgMKAYkAKKK",
        "outputId": "7d6720ad-4bce-4ba9-e851-43fed14f3fef"
      },
      "execution_count": null,
      "outputs": [
        {
          "output_type": "execute_result",
          "data": {
            "text/plain": [
              "36.4"
            ]
          },
          "metadata": {},
          "execution_count": 50
        }
      ]
    },
    {
      "cell_type": "code",
      "source": [
        "D={1:5.6,2:7.8,3:6.6,4:8.7,5:7.7}\n",
        "D[3]=7.1\n",
        "D"
      ],
      "metadata": {
        "id": "3E1pOA7cBkkR",
        "colab": {
          "base_uri": "https://localhost:8080/"
        },
        "outputId": "106537ec-7987-4a1a-a67d-bd2a56298848"
      },
      "execution_count": null,
      "outputs": [
        {
          "output_type": "execute_result",
          "data": {
            "text/plain": [
              "{1: 5.6, 2: 7.8, 3: 7.1, 4: 8.7, 5: 7.7}"
            ]
          },
          "metadata": {},
          "execution_count": 52
        }
      ]
    },
    {
      "cell_type": "code",
      "source": [
        "D.clear()"
      ],
      "metadata": {
        "id": "WBZ4PPRTDJpE"
      },
      "execution_count": null,
      "outputs": []
    },
    {
      "cell_type": "code",
      "source": [
        "s1=set([10,20,30,40,50,60])\n",
        "s2=set([40,50,60,70,80,90])\n",
        "s1.add(55)\n",
        "s1.add(66)\n",
        "print(s1)"
      ],
      "metadata": {
        "colab": {
          "base_uri": "https://localhost:8080/"
        },
        "id": "-ccDG58dDMMy",
        "outputId": "5dc396e8-610d-4d30-be26-4972ae599616"
      },
      "execution_count": null,
      "outputs": [
        {
          "output_type": "stream",
          "name": "stdout",
          "text": [
            "{66, 40, 10, 50, 20, 55, 60, 30}\n"
          ]
        }
      ]
    },
    {
      "cell_type": "code",
      "source": [
        "s1=set([10,20,30,40,50,60])\n",
        "s2=set([40,50,60,70,80,90])\n",
        "s1.remove(30)\n",
        "s1.remove(10)\n",
        "print(s1)"
      ],
      "metadata": {
        "colab": {
          "base_uri": "https://localhost:8080/"
        },
        "id": "A4mdx6KHEr-V",
        "outputId": "9277c835-afe7-4fc1-b061-14176a39c8c3"
      },
      "execution_count": null,
      "outputs": [
        {
          "output_type": "stream",
          "name": "stdout",
          "text": [
            "{40, 50, 20, 60}\n"
          ]
        }
      ]
    },
    {
      "cell_type": "code",
      "source": [
        "s1=set([10,20,30,40,50,60])\n",
        "s2=set([40,50,60,70,80,90])\n",
        "print(40 in s1)"
      ],
      "metadata": {
        "colab": {
          "base_uri": "https://localhost:8080/"
        },
        "id": "YmPM2q0TFvSW",
        "outputId": "220518f9-760f-4de8-89c7-1d5ea044b94a"
      },
      "execution_count": null,
      "outputs": [
        {
          "output_type": "stream",
          "name": "stdout",
          "text": [
            "True\n"
          ]
        }
      ]
    },
    {
      "cell_type": "code",
      "source": [
        "s1=set([10,20,30,40,50,60])\n",
        "s2=set([40,50,60,70,80,90])\n",
        "print(s1.union(s2))"
      ],
      "metadata": {
        "colab": {
          "base_uri": "https://localhost:8080/"
        },
        "id": "u3qnnX09GUsQ",
        "outputId": "93e0d2b0-74cd-4f08-8485-461dc4d42f18"
      },
      "execution_count": null,
      "outputs": [
        {
          "output_type": "stream",
          "name": "stdout",
          "text": [
            "{70, 40, 10, 80, 50, 20, 90, 60, 30}\n"
          ]
        }
      ]
    },
    {
      "cell_type": "code",
      "source": [
        "s1=set([10,20,30,40,50,60])\n",
        "s2=set([40,50,60,70,80,90])\n",
        "print(s1.intersection(s2))"
      ],
      "metadata": {
        "colab": {
          "base_uri": "https://localhost:8080/"
        },
        "id": "klNk3EmqGdus",
        "outputId": "7c8dc675-d0b3-46d1-e52e-11b874f0bdd4"
      },
      "execution_count": null,
      "outputs": [
        {
          "output_type": "stream",
          "name": "stdout",
          "text": [
            "{40, 50, 60}\n"
          ]
        }
      ]
    },
    {
      "cell_type": "code",
      "source": [
        "s1=set([10,20,30,40,50,60])\n",
        "s2=set([40,50,60,70,80,90])\n",
        "print(s1-s2)"
      ],
      "metadata": {
        "colab": {
          "base_uri": "https://localhost:8080/"
        },
        "id": "7yf98a2mGonj",
        "outputId": "a64572aa-7ff3-4b74-91b4-135b02b082d5"
      },
      "execution_count": null,
      "outputs": [
        {
          "output_type": "stream",
          "name": "stdout",
          "text": [
            "{10, 20, 30}\n"
          ]
        }
      ]
    },
    {
      "cell_type": "code",
      "source": [
        "import string as s\n",
        "import random as r\n",
        "print (\"String + Digits --> \",s.ascii_letters + s.digits)\n",
        "\n",
        "for i in range(100):\n",
        "  mixPasswd=r.sample(s.ascii_letters + s.digits, 7)\n",
        "  mixPasswd=\"\".join(mixPasswd)\n",
        "  print (\"mix    --> \",mixPasswd)\n"
      ],
      "metadata": {
        "colab": {
          "base_uri": "https://localhost:8080/"
        },
        "id": "vk-ZPeQ7Gvit",
        "outputId": "0f090f38-8252-40b9-f90a-34155d87b305"
      },
      "execution_count": null,
      "outputs": [
        {
          "output_type": "stream",
          "name": "stdout",
          "text": [
            "String + Digits -->  abcdefghijklmnopqrstuvwxyzABCDEFGHIJKLMNOPQRSTUVWXYZ0123456789\n",
            "mix    -->  5XxBL8f\n",
            "mix    -->  rJg6ZIM\n",
            "mix    -->  V5jqfKB\n",
            "mix    -->  UgPSBQl\n",
            "mix    -->  nAYkFIE\n",
            "mix    -->  9E2X3DU\n",
            "mix    -->  Qidc0s9\n",
            "mix    -->  C6TVJsk\n",
            "mix    -->  3j1BVnm\n",
            "mix    -->  ZHSDipY\n",
            "mix    -->  3pKzaeZ\n",
            "mix    -->  t8B3bMT\n",
            "mix    -->  tXyNQ2U\n",
            "mix    -->  Z47LO8U\n",
            "mix    -->  cd3zxLa\n",
            "mix    -->  AS6jB1w\n",
            "mix    -->  B4x35DX\n",
            "mix    -->  mvIhsez\n",
            "mix    -->  A2y1Tb8\n",
            "mix    -->  cBuMXhl\n",
            "mix    -->  IZLS3Wy\n",
            "mix    -->  clk068o\n",
            "mix    -->  IdjkQL1\n",
            "mix    -->  5oMdJCw\n",
            "mix    -->  eb8MQ5z\n",
            "mix    -->  LTVP9he\n",
            "mix    -->  JcWBOwb\n",
            "mix    -->  FNwfxkS\n",
            "mix    -->  Ry6bnwC\n",
            "mix    -->  9smLCfD\n",
            "mix    -->  MLQkilt\n",
            "mix    -->  u7N04oP\n",
            "mix    -->  5C9Zhoz\n",
            "mix    -->  Rhl4JEN\n",
            "mix    -->  HS2Notr\n",
            "mix    -->  RDJogtA\n",
            "mix    -->  Ocjnptf\n",
            "mix    -->  ad4OiBf\n",
            "mix    -->  XG7zNaA\n",
            "mix    -->  7nLxFuU\n",
            "mix    -->  DSvBiaQ\n",
            "mix    -->  wvh2G4L\n",
            "mix    -->  Uqhe4JP\n",
            "mix    -->  MF3ibYg\n",
            "mix    -->  geiJWxD\n",
            "mix    -->  h6LvVBA\n",
            "mix    -->  fOCaus8\n",
            "mix    -->  wu3Vitz\n",
            "mix    -->  GpRC5UA\n",
            "mix    -->  94ZpLEx\n",
            "mix    -->  7KWnsvS\n",
            "mix    -->  RVSfm7p\n",
            "mix    -->  6pz1rou\n",
            "mix    -->  v761Tsw\n",
            "mix    -->  GkQEZtM\n",
            "mix    -->  mnHdRek\n",
            "mix    -->  PjI560n\n",
            "mix    -->  umQ1ZaV\n",
            "mix    -->  4fTSiKr\n",
            "mix    -->  IzBfpWg\n",
            "mix    -->  MlpDHhF\n",
            "mix    -->  9KwHjBO\n",
            "mix    -->  hftaY40\n",
            "mix    -->  fYEZvpB\n",
            "mix    -->  Q8GKDVp\n",
            "mix    -->  UEMjsRa\n",
            "mix    -->  mrNeEUD\n",
            "mix    -->  JNecIa0\n",
            "mix    -->  fZ0bMia\n",
            "mix    -->  kY3HGED\n",
            "mix    -->  AVQSzl1\n",
            "mix    -->  rXTViZD\n",
            "mix    -->  HQW6XjV\n",
            "mix    -->  b20IsFW\n",
            "mix    -->  euabtNF\n",
            "mix    -->  wpMj90z\n",
            "mix    -->  6bzVFCU\n",
            "mix    -->  muoQWs3\n",
            "mix    -->  QRUcHrm\n",
            "mix    -->  4vrfz5B\n",
            "mix    -->  mqSCiAo\n",
            "mix    -->  zgCmXOf\n",
            "mix    -->  ivUZJed\n",
            "mix    -->  1BIEovD\n",
            "mix    -->  I08D9Oo\n",
            "mix    -->  A7mqE4s\n",
            "mix    -->  XyJFhkc\n",
            "mix    -->  hVpNA9X\n",
            "mix    -->  hm9QKNd\n",
            "mix    -->  qfrAYbC\n",
            "mix    -->  VHu1cIj\n",
            "mix    -->  PKNJ2Wn\n",
            "mix    -->  YvKDjPs\n",
            "mix    -->  1aOLhAW\n",
            "mix    -->  7ay9VOl\n",
            "mix    -->  wBTWSPE\n",
            "mix    -->  vmbK4xe\n",
            "mix    -->  2En6fxd\n",
            "mix    -->  gm5IJHE\n",
            "mix    -->  6YD1Sw4\n"
          ]
        }
      ]
    },
    {
      "cell_type": "code",
      "source": [
        "def IsPrime(n):\n",
        "\tfor i in range(2, n//2 + 1):\n",
        "\t\tif n%i==0:\n",
        "\t\t\treturn 0\n",
        "\treturn 1\n",
        "\n",
        "for i in range(600,801):\n",
        "\tif IsPrime(i) == 1:\n",
        "\t\tprint(i,end=' ')"
      ],
      "metadata": {
        "colab": {
          "base_uri": "https://localhost:8080/"
        },
        "id": "IjMv_OOOJcFV",
        "outputId": "6944de3d-154e-419b-e36b-306ca6aac71c"
      },
      "execution_count": null,
      "outputs": [
        {
          "output_type": "stream",
          "name": "stdout",
          "text": [
            "601 607 613 617 619 631 641 643 647 653 659 661 673 677 683 691 701 709 719 727 733 739 743 751 757 761 769 773 787 797 "
          ]
        }
      ]
    },
    {
      "cell_type": "code",
      "source": [
        "for i in range(100,1001):\n",
        "  if i%63==0:\n",
        "    print(i)\n"
      ],
      "metadata": {
        "colab": {
          "base_uri": "https://localhost:8080/"
        },
        "id": "3CNBge7BKwJ1",
        "outputId": "7d7b1408-89c5-4a61-dc40-82ff32d75c2c"
      },
      "execution_count": null,
      "outputs": [
        {
          "output_type": "stream",
          "name": "stdout",
          "text": [
            "126\n",
            "189\n",
            "252\n",
            "315\n",
            "378\n",
            "441\n",
            "504\n",
            "567\n",
            "630\n",
            "693\n",
            "756\n",
            "819\n",
            "882\n",
            "945\n"
          ]
        }
      ]
    },
    {
      "cell_type": "code",
      "source": [
        "import random as r\n",
        "\n",
        "list1 = r.sample(range(10, 31), 10)\n",
        "list2 = r.sample(range(10, 31), 10)\n",
        "\n",
        "print(\"List 1:\", list1)\n",
        "print(\"List 2:\", list2)\n",
        "\n",
        "s1= set(list1)\n",
        "print(\"Set 1 is\",s1)\n",
        "s2= set(list2)\n",
        "print(\"Set 2 is\",s2)"
      ],
      "metadata": {
        "colab": {
          "base_uri": "https://localhost:8080/"
        },
        "id": "lgOFFrAqLMw5",
        "outputId": "4f99bde1-cec2-4353-c810-bc7d03d7cf9a"
      },
      "execution_count": null,
      "outputs": [
        {
          "output_type": "stream",
          "name": "stdout",
          "text": [
            "List 1: [10, 26, 28, 11, 25, 21, 24, 27, 19, 15]\n",
            "List 2: [15, 27, 20, 17, 11, 23, 14, 28, 30, 21]\n",
            "Set 1 is {10, 11, 15, 19, 21, 24, 25, 26, 27, 28}\n",
            "Set 2 is {11, 14, 15, 17, 20, 21, 23, 27, 28, 30}\n"
          ]
        }
      ]
    },
    {
      "cell_type": "code",
      "source": [
        "print(s1.intersection(s2))"
      ],
      "metadata": {
        "colab": {
          "base_uri": "https://localhost:8080/"
        },
        "id": "XqO-lyy4NAGq",
        "outputId": "88e99dac-0bb7-49df-cc69-395e886fbaf4"
      },
      "execution_count": null,
      "outputs": [
        {
          "output_type": "stream",
          "name": "stdout",
          "text": [
            "{11, 15, 21, 27, 28}\n"
          ]
        }
      ]
    },
    {
      "cell_type": "code",
      "source": [
        "print((s1.union(s2))-(s1.intersection(s2)))"
      ],
      "metadata": {
        "colab": {
          "base_uri": "https://localhost:8080/"
        },
        "id": "tBVPKwsCNbhL",
        "outputId": "bde10bfc-94fe-4c45-996b-4190d0359cf3"
      },
      "execution_count": null,
      "outputs": [
        {
          "output_type": "stream",
          "name": "stdout",
          "text": [
            "{10, 14, 17, 19, 20, 23, 24, 25, 26, 30}\n"
          ]
        }
      ]
    },
    {
      "cell_type": "code",
      "source": [
        "q=(s1.union(s2))\n",
        "print(q)\n",
        "min(q)"
      ],
      "metadata": {
        "colab": {
          "base_uri": "https://localhost:8080/"
        },
        "id": "yjOYP9x2P135",
        "outputId": "ffa57dee-d740-4f01-bc84-7cd3d8490aac"
      },
      "execution_count": null,
      "outputs": [
        {
          "output_type": "stream",
          "name": "stdout",
          "text": [
            "List 1: [29, 11, 22, 26, 20, 30, 21, 10, 23, 15]\n",
            "List 2: [15, 22, 10, 13, 19, 17, 14, 29, 24, 30]\n",
            "Set 1 is {10, 11, 15, 20, 21, 22, 23, 26, 29, 30}\n",
            "Set 2 is {10, 13, 14, 15, 17, 19, 22, 24, 29, 30}\n",
            "{10, 11, 13, 14, 15, 17, 19, 20, 21, 22, 23, 24, 26, 29, 30}\n"
          ]
        },
        {
          "output_type": "execute_result",
          "data": {
            "text/plain": [
              "10"
            ]
          },
          "metadata": {},
          "execution_count": 105
        }
      ]
    },
    {
      "cell_type": "code",
      "source": [
        "max(q)"
      ],
      "metadata": {
        "colab": {
          "base_uri": "https://localhost:8080/"
        },
        "id": "d57psvuqQSoF",
        "outputId": "86a1c9a0-a73c-417f-e7b5-c5769d25ac66"
      },
      "execution_count": null,
      "outputs": [
        {
          "output_type": "execute_result",
          "data": {
            "text/plain": [
              "30"
            ]
          },
          "metadata": {},
          "execution_count": 106
        }
      ]
    },
    {
      "cell_type": "code",
      "source": [
        "sum(q)"
      ],
      "metadata": {
        "colab": {
          "base_uri": "https://localhost:8080/"
        },
        "id": "RJ0Xe__PQkYZ",
        "outputId": "96ff9fd9-f62c-4a41-87ce-6645681c35eb"
      },
      "execution_count": null,
      "outputs": [
        {
          "output_type": "execute_result",
          "data": {
            "text/plain": [
              "294"
            ]
          },
          "metadata": {},
          "execution_count": 107
        }
      ]
    },
    {
      "cell_type": "code",
      "source": [
        "list1 = r.sample(range(100,901), 100)\n",
        "print(\"List 1:\", list1)"
      ],
      "metadata": {
        "colab": {
          "base_uri": "https://localhost:8080/"
        },
        "id": "y92ePci8RGFs",
        "outputId": "735b9daa-c207-484c-faac-ba2469879110"
      },
      "execution_count": null,
      "outputs": [
        {
          "output_type": "stream",
          "name": "stdout",
          "text": [
            "List 1: [214, 682, 314, 787, 728, 638, 674, 705, 181, 419, 282, 118, 361, 738, 623, 750, 235, 478, 826, 138, 121, 821, 423, 735, 364, 285, 363, 673, 280, 700, 418, 598, 550, 848, 722, 888, 177, 595, 897, 199, 793, 412, 687, 103, 529, 153, 233, 577, 695, 660, 607, 246, 647, 154, 379, 249, 157, 230, 401, 565, 183, 802, 533, 600, 896, 434, 166, 761, 400, 778, 704, 114, 225, 614, 457, 609, 718, 763, 341, 755, 185, 670, 759, 406, 115, 378, 193, 443, 857, 588, 587, 504, 812, 568, 780, 326, 769, 493, 397, 322]\n"
          ]
        }
      ]
    },
    {
      "cell_type": "code",
      "source": [
        "for i in list1:\n",
        "  if i%2!=0:\n",
        "    print('odd',i)\n",
        "  else:\n",
        "    print('even',i) "
      ],
      "metadata": {
        "colab": {
          "base_uri": "https://localhost:8080/"
        },
        "id": "jUd3yGGQRhF1",
        "outputId": "fb973065-343f-4068-cb71-a3addf47fca5"
      },
      "execution_count": null,
      "outputs": [
        {
          "output_type": "stream",
          "name": "stdout",
          "text": [
            "even 214\n",
            "even 682\n",
            "even 314\n",
            "odd 787\n",
            "even 728\n",
            "even 638\n",
            "even 674\n",
            "odd 705\n",
            "odd 181\n",
            "odd 419\n",
            "even 282\n",
            "even 118\n",
            "odd 361\n",
            "even 738\n",
            "odd 623\n",
            "even 750\n",
            "odd 235\n",
            "even 478\n",
            "even 826\n",
            "even 138\n",
            "odd 121\n",
            "odd 821\n",
            "odd 423\n",
            "odd 735\n",
            "even 364\n",
            "odd 285\n",
            "odd 363\n",
            "odd 673\n",
            "even 280\n",
            "even 700\n",
            "even 418\n",
            "even 598\n",
            "even 550\n",
            "even 848\n",
            "even 722\n",
            "even 888\n",
            "odd 177\n",
            "odd 595\n",
            "odd 897\n",
            "odd 199\n",
            "odd 793\n",
            "even 412\n",
            "odd 687\n",
            "odd 103\n",
            "odd 529\n",
            "odd 153\n",
            "odd 233\n",
            "odd 577\n",
            "odd 695\n",
            "even 660\n",
            "odd 607\n",
            "even 246\n",
            "odd 647\n",
            "even 154\n",
            "odd 379\n",
            "odd 249\n",
            "odd 157\n",
            "even 230\n",
            "odd 401\n",
            "odd 565\n",
            "odd 183\n",
            "even 802\n",
            "odd 533\n",
            "even 600\n",
            "even 896\n",
            "even 434\n",
            "even 166\n",
            "odd 761\n",
            "even 400\n",
            "even 778\n",
            "even 704\n",
            "even 114\n",
            "odd 225\n",
            "even 614\n",
            "odd 457\n",
            "odd 609\n",
            "even 718\n",
            "odd 763\n",
            "odd 341\n",
            "odd 755\n",
            "odd 185\n",
            "even 670\n",
            "odd 759\n",
            "even 406\n",
            "odd 115\n",
            "even 378\n",
            "odd 193\n",
            "odd 443\n",
            "odd 857\n",
            "even 588\n",
            "odd 587\n",
            "even 504\n",
            "even 812\n",
            "even 568\n",
            "even 780\n",
            "even 326\n",
            "odd 769\n",
            "odd 493\n",
            "odd 397\n",
            "even 322\n"
          ]
        }
      ]
    },
    {
      "cell_type": "code",
      "source": [
        "def IsPrime(n):\n",
        "\tfor i in range(2, n//2 + 1):\n",
        "\t\tif n%i==0:\n",
        "\t\t\treturn 0\n",
        "\treturn 1\n",
        "\n",
        "for i in range(100,901):\n",
        "\tif IsPrime(i) == 1:\n",
        "\t\tprint(i,end=' ')"
      ],
      "metadata": {
        "colab": {
          "base_uri": "https://localhost:8080/"
        },
        "id": "LMLF8zLvR-xg",
        "outputId": "5fe263b5-b171-4a40-a775-3f6ef5bf646e"
      },
      "execution_count": null,
      "outputs": [
        {
          "output_type": "stream",
          "name": "stdout",
          "text": [
            "101 103 107 109 113 127 131 137 139 149 151 157 163 167 173 179 181 191 193 197 199 211 223 227 229 233 239 241 251 257 263 269 271 277 281 283 293 307 311 313 317 331 337 347 349 353 359 367 373 379 383 389 397 401 409 419 421 431 433 439 443 449 457 461 463 467 479 487 491 499 503 509 521 523 541 547 557 563 569 571 577 587 593 599 601 607 613 617 619 631 641 643 647 653 659 661 673 677 683 691 701 709 719 727 733 739 743 751 757 761 769 773 787 797 809 811 821 823 827 829 839 853 857 859 863 877 881 883 887 "
          ]
        }
      ]
    },
    {
      "cell_type": "code",
      "source": [
        "D={1:\"One\",2:\"Two\",3:\"Three\",4:\"Four\", 5:\"Five\"}\n",
        "print(\"Dictionary is \",D)\n",
        "print(\"Keys are\",list(D.keys()))\n",
        "print(\"Values are\",list(D.values()))\n",
        "\n",
        "with open(\"dictionary_output.txt\", \"w\") as file:\n",
        " for key, value in D.items():\n",
        "  file.write(str(key) + \", \" + str(value) + \"\\n\")"
      ],
      "metadata": {
        "colab": {
          "base_uri": "https://localhost:8080/"
        },
        "id": "uceZBpU8SpGk",
        "outputId": "a58815b9-1090-4586-ef7a-b4ebf3ae1353"
      },
      "execution_count": null,
      "outputs": [
        {
          "output_type": "stream",
          "name": "stdout",
          "text": [
            "Dictionary is  {1: 'One', 2: 'Two', 3: 'Three', 4: 'Four', 5: 'Five'}\n",
            "Keys are [1, 2, 3, 4, 5]\n",
            "Values are ['One', 'Two', 'Three', 'Four', 'Five']\n"
          ]
        }
      ]
    },
    {
      "cell_type": "code",
      "source": [
        "L = [\"One\", \"Two\", \"Three\", \"Four\", \"Five\"]\n",
        "\n",
        "with open(\"list_output.txt\", \"w\") as file:\n",
        "    \n",
        "    for element in L:\n",
        "        \n",
        "        length = len(element)\n",
        "        \n",
        "        file.write(element + \", \" + str(length) + \"\\n\")"
      ],
      "metadata": {
        "colab": {
          "base_uri": "https://localhost:8080/"
        },
        "id": "akbPBlbLVQ4C",
        "outputId": "3a4edd80-2cd9-4717-dec6-abed9af881b1"
      },
      "execution_count": null,
      "outputs": [
        {
          "output_type": "stream",
          "name": "stdout",
          "text": [
            "52.9\n",
            "0.0004668235778808594\n"
          ]
        }
      ]
    },
    {
      "cell_type": "code",
      "source": [
        "import random\n",
        "import string\n",
        "\n",
        "\n",
        "min_length = 10\n",
        "max_length = 15\n",
        "\n",
        "\n",
        "random_strings = []\n",
        "for _ in range(100):\n",
        "    \n",
        "    length = random.randint(min_length, max_length)\n",
        "    \n",
        "    \n",
        "    random_string = ''.join(random.choices(string.ascii_letters, k=length))\n",
        "    random_strings.append(random_string)\n",
        "\n",
        "\n",
        "with open(\"random_strings_output.txt\", \"w\") as file:\n",
        "    for string in random_strings:\n",
        "        file.write(string + \"\\n\")"
      ],
      "metadata": {
        "id": "awWGR1guWmBM"
      },
      "execution_count": null,
      "outputs": []
    },
    {
      "cell_type": "code",
      "source": [
        "def is_prime(num):\n",
        "    if num < 2:\n",
        "        return False\n",
        "    for i in range(2, int(num ** 0.5) + 1):\n",
        "        if num % i == 0:\n",
        "            return False\n",
        "    return True\n",
        "\n",
        "\n",
        "prime_numbers = [num for num in range(600, 801) if is_prime(num)]\n",
        "\n",
        "\n",
        "with open(\"prime_numbers_output.txt\", \"w\") as file:\n",
        "    for number in prime_numbers:\n",
        "        file.write(str(number) + \"\\n\")"
      ],
      "metadata": {
        "id": "QRNKT-niW-8N"
      },
      "execution_count": null,
      "outputs": []
    },
    {
      "cell_type": "code",
      "source": [
        "import time\n",
        "\n",
        "start = time.time()\n",
        "\n",
        "print(23*2.3)\n",
        "\n",
        "end = time.time()\n",
        "print(end - start)"
      ],
      "metadata": {
        "colab": {
          "base_uri": "https://localhost:8080/"
        },
        "id": "CpHZPVmEXA4O",
        "outputId": "cc977220-fa0e-40bb-8a05-ec562887e1b4"
      },
      "execution_count": null,
      "outputs": [
        {
          "output_type": "stream",
          "name": "stdout",
          "text": [
            "52.9\n",
            "0.00013780593872070312\n"
          ]
        }
      ]
    },
    {
      "cell_type": "code",
      "source": [
        "from timeit import default_timer as timer\n",
        "\n",
        "start = timer()\n",
        "\n",
        "print(23*2.3)\n",
        "\n",
        "end = timer()\n",
        "print(end - start)"
      ],
      "metadata": {
        "colab": {
          "base_uri": "https://localhost:8080/"
        },
        "id": "kMtanvc-XCal",
        "outputId": "ad137572-864a-4bc7-8e63-2778164f6799"
      },
      "execution_count": null,
      "outputs": [
        {
          "output_type": "stream",
          "name": "stdout",
          "text": [
            "52.9\n",
            "0.00011773999904107768\n"
          ]
        }
      ]
    },
    {
      "cell_type": "code",
      "source": [
        "import time\n",
        "import matplotlib.pyplot as plt\n",
        "\n",
        "def sort_list(elements):\n",
        "\n",
        "    start_time = time.time()\n",
        "\n",
        "    sorted_list = sorted(elements)\n",
        "\n",
        "\n",
        "    elapsed_time = time.time() - start_time\n",
        "\n",
        "    return elapsed_time\n",
        "\n",
        "num_elements = [5000, 10000, 15000, 20000, 25000]\n",
        "\n",
        "times = []\n",
        "\n",
        "\n",
        "for num in num_elements:\n",
        "  \n",
        "    elements = list(range(num))\n",
        "    \n",
        "    random.shuffle(elements)\n",
        "\n",
        "    elapsed_time = sort_list(elements)\n",
        "    times.append(elapsed_time)\n",
        "\n",
        "# Plotting the graph\n",
        "plt.plot(num_elements, times, 'bo-')\n",
        "plt.xlabel('Number of Elements')\n",
        "plt.ylabel('Time Taken (seconds)')\n",
        "plt.title('Sorting Time vs Number of Elements')\n",
        "plt.show()\n"
      ],
      "metadata": {
        "colab": {
          "base_uri": "https://localhost:8080/",
          "height": 472
        },
        "id": "HE8UimrHXJ_a",
        "outputId": "89e24c82-7705-4590-9dbb-d72abd3f4a9d"
      },
      "execution_count": null,
      "outputs": [
        {
          "output_type": "display_data",
          "data": {
            "text/plain": [
              "<Figure size 640x480 with 1 Axes>"
            ],
            "image/png": "[encoded data removed]"
          },
          "metadata": {}
        }
      ]
    },
    {
      "cell_type": "code",
      "source": [
        "student_marks = {\n",
        "    'A': [90, 55, 22, 18, 95],\n",
        "    'B': [78, 82, 50, 75, 85],\n",
        "    'C': [95, 92, 42, 48, 85],\n",
        "    'D': [82, 82, 78, 45, 50],\n",
        "    'E': [88, 40, 85, 92, 40]\n",
        "}\n",
        "average_marks = {student: sum(marks) / len(marks) for student, marks in student_marks.items()}\n",
        "max_student = max(average_marks, key=average_marks.get)\n",
        "max_marks = average_marks[max_student]\n",
        "\n",
        "min_student = min(average_marks, key=average_marks.get)\n",
        "min_marks = average_marks[min_student]\n",
        "\n",
        "print(\"Student with maximum average marks:\")\n",
        "print(\"Name:\", max_student)\n",
        "print(\"Average Marks:\", max_marks)\n",
        "print()\n",
        "print(\"Student with minimum average marks:\")\n",
        "print(\"Name:\", min_student)\n",
        "print(\"Average Marks:\",min_marks)"
      ],
      "metadata": {
        "colab": {
          "base_uri": "https://localhost:8080/"
        },
        "id": "WPUVXHlxZzhi",
        "outputId": "cb49d235-c68a-4dcf-f270-5232ec461d2c"
      },
      "execution_count": null,
      "outputs": [
        {
          "output_type": "stream",
          "name": "stdout",
          "text": [
            "Student with maximum average marks:\n",
            "Name: Alice\n",
            "Average Marks: 90.0\n",
            "\n",
            "Student with minimum average marks:\n",
            "Name: Bob\n",
            "Average Marks: 80.0\n"
          ]
        }
      ]
    }
  ]
}